{
  "nbformat": 4,
  "nbformat_minor": 0,
  "metadata": {
    "colab": {
      "provenance": [],
      "authorship_tag": "ABX9TyPOmiTz240YU6wRLtKPyYYl",
      "include_colab_link": true
    },
    "kernelspec": {
      "name": "python3",
      "display_name": "Python 3"
    },
    "language_info": {
      "name": "python"
    }
  },
  "cells": [
    {
      "cell_type": "markdown",
      "metadata": {
        "id": "view-in-github",
        "colab_type": "text"
      },
      "source": [
        "<a href=\"https://colab.research.google.com/github/MehrdadDastouri/book_recommendation_system/blob/main/book_recommendation_system.ipynb\" target=\"_parent\"><img src=\"https://colab.research.google.com/assets/colab-badge.svg\" alt=\"Open In Colab\"/></a>"
      ]
    },
    {
      "cell_type": "code",
      "source": [
        "# Import necessary libraries\n",
        "import pandas as pd\n",
        "from sklearn.metrics.pairwise import cosine_similarity\n",
        "from sklearn.preprocessing import StandardScaler\n",
        "import numpy as np\n",
        "\n",
        "# Load the dataset\n",
        "# You can download a book dataset from: https://www.kaggle.com/datasets/arashnic/book-recommendation-dataset\n",
        "books = pd.read_csv(\"books.csv\")  # Books metadata\n",
        "ratings = pd.read_csv(\"ratings.csv\")  # User ratings\n",
        "\n",
        "# Preview datasets\n",
        "print(\"Books Dataset:\")\n",
        "print(books.head())\n",
        "print(\"\\nRatings Dataset:\")\n",
        "print(ratings.head())\n",
        "\n",
        "# Merge books and ratings datasets\n",
        "data = ratings.merge(books, on=\"book_id\")\n",
        "print(\"\\nMerged Dataset:\")\n",
        "print(data.head())\n",
        "\n",
        "# Create a pivot table (Users x Books matrix)\n",
        "user_book_matrix = data.pivot_table(index=\"user_id\", columns=\"title\", values=\"rating\")\n",
        "\n",
        "# Fill NaN values with 0\n",
        "user_book_matrix.fillna(0, inplace=True)\n",
        "\n",
        "# Standardize the data (optional: for cosine similarity)\n",
        "scaler = StandardScaler()\n",
        "user_book_matrix_scaled = scaler.fit_transform(user_book_matrix)\n",
        "\n",
        "# Compute cosine similarity between books\n",
        "book_similarity = cosine_similarity(user_book_matrix_scaled.T)  # Transpose for book-based similarity\n",
        "book_similarity_df = pd.DataFrame(book_similarity, index=user_book_matrix.columns, columns=user_book_matrix.columns)\n",
        "\n",
        "# Function to recommend books based on a given book\n",
        "def recommend_books(book_title, similarity_matrix, top_n=5):\n",
        "    \"\"\"\n",
        "    Recommends books similar to the given book title.\n",
        "\n",
        "    Args:\n",
        "    - book_title (str): Title of the book to base recommendations on.\n",
        "    - similarity_matrix (DataFrame): Cosine similarity matrix of books.\n",
        "    - top_n (int): Number of top recommendations to return.\n",
        "\n",
        "    Returns:\n",
        "    - list: Titles of recommended books.\n",
        "    \"\"\"\n",
        "    if book_title not in similarity_matrix.index:\n",
        "        print(f\"Book '{book_title}' not found in the dataset.\")\n",
        "        return []\n",
        "    scores = similarity_matrix[book_title].sort_values(ascending=False)[1:top_n+1]\n",
        "    return scores.index.tolist()\n",
        "\n",
        "# Example: Recommend books similar to a specific book\n",
        "book_to_recommend = \"The Catcher in the Rye\"\n",
        "recommendations = recommend_books(book_to_recommend, book_similarity_df, top_n=5)\n",
        "\n",
        "print(f\"\\nBooks similar to '{book_to_recommend}':\")\n",
        "for i, rec in enumerate(recommendations, 1):\n",
        "    print(f\"{i}. {rec}\")"
      ],
      "metadata": {
        "id": "V1gKvMb7FMpd"
      },
      "execution_count": null,
      "outputs": []
    }
  ]
}